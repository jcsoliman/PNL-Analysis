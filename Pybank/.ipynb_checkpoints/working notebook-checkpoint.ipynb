{
 "cells": [
  {
   "cell_type": "code",
   "execution_count": 27,
   "metadata": {},
   "outputs": [
    {
     "name": "stdout",
     "output_type": "stream",
     "text": [
      "Financial Analysis\n",
      "------------------\n",
      "Total Months: 86\n",
      "Total: $38382578\n",
      "Average  Change: $-2315.12\n",
      "Greatest Increase in Profits: Feb-2012 ($1926159)\n",
      "Greatest Decrease in Profits: Sep-2013 ($-2196167)\n"
     ]
    }
   ],
   "source": [
    "#import Path and csv\n",
    "from pathlib import Path\n",
    "import csv\n",
    "\n",
    "#set data file path\n",
    "\n",
    "csvpath = Path(\"Resources/budget_data.csv\")\n",
    "\n",
    "#initialize variables to count months, sum profits and losses, sum of Pnl changes,\n",
    "#maximum PnL change and date, minimum PnL change and date\n",
    "\n",
    "count_months = 0\n",
    "sum_pnl = 0\n",
    "sum_pnl_delta = 0\n",
    "max_pnl_delta = 0\n",
    "max_pnl_date = \"\"\n",
    "min_pnl_delta = 0\n",
    "min_pnl_date = \"\"\n",
    "\n",
    "\n",
    "#open data file in read mode\n",
    "\n",
    "with open(csvpath,\"r\") as datafile:\n",
    "    csvreader = csv.reader(datafile, delimiter = ',')\n",
    "    header = next(csvreader)\n",
    "    \n",
    "    #pass first row as first data point\n",
    "    first_row = next(csvreader)\n",
    "    first_pnl = int(first_row[1])\n",
    "    count_months = 1\n",
    "    sum_pnl = first_pnl\n",
    "    \n",
    "    #assign first PnL as initial reference for Pnl change loop below\n",
    "    prev_pnl = first_pnl\n",
    "    \n",
    "    #loop through rest of data\n",
    "    for row in csvreader:\n",
    "        curr_date = row[0]\n",
    "        curr_pnl = int(row[1])\n",
    "        \n",
    "        #continue counting and calculating cummulative PnL\n",
    "        count_months += 1\n",
    "        sum_pnl += curr_pnl\n",
    "        \n",
    "        #calculate PnL change, and cummulative Pnl change sum\n",
    "        pnl_delta = curr_pnl - prev_pnl\n",
    "        sum_pnl_delta += pnl_delta\n",
    "        \n",
    "        #determine max and min PnL change and date\n",
    "        if pnl_delta > max_pnl_delta:\n",
    "            max_pnl_delta = pnl_delta\n",
    "            max_pnl_date = curr_date\n",
    "        elif pnl_delta < min_pnl_delta:\n",
    "            min_pnl_delta = pnl_delta\n",
    "            min_pnl_date = curr_date\n",
    "        \n",
    "        #assign current PnL as previous PnL for next loop\n",
    "        prev_pnl = curr_pnl\n",
    "\n",
    "#calculate average PnL change\n",
    "average_pnl_delta = round(sum_pnl_delta / (count_months - 1),2)\n",
    "\n",
    "#what to print\n",
    "text_to_print = f\"Financial Analysis\\n------------------\\nTotal Months: {count_months}\\nTotal: ${sum_pnl}\\nAverage  Change: ${average_pnl_delta}\\nGreatest Increase in Profits: {max_pnl_date} (${max_pnl_delta})\\nGreatest Decrease in Profits: {min_pnl_date} (${min_pnl_delta})\"\n",
    "\n",
    "#print on terminal\n",
    "print(text_to_print)\n",
    "\n",
    "#export to text file\n",
    "outputpath = Path(\"output.txt\")\n",
    "\n",
    "with open(outputpath,'w') as output:\n",
    "    output.write(text_to_print)"
   ]
  },
  {
   "cell_type": "code",
   "execution_count": null,
   "metadata": {},
   "outputs": [],
   "source": []
  }
 ],
 "metadata": {
  "kernelspec": {
   "display_name": "Python 3",
   "language": "python",
   "name": "python3"
  },
  "language_info": {
   "codemirror_mode": {
    "name": "ipython",
    "version": 3
   },
   "file_extension": ".py",
   "mimetype": "text/x-python",
   "name": "python",
   "nbconvert_exporter": "python",
   "pygments_lexer": "ipython3",
   "version": "3.7.3"
  }
 },
 "nbformat": 4,
 "nbformat_minor": 4
}
